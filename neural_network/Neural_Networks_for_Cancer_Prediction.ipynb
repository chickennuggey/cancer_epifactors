{
  "cells": [
    {
      "cell_type": "markdown",
      "metadata": {
        "id": "view-in-github",
        "colab_type": "text"
      },
      "source": [
        "<a href=\"https://colab.research.google.com/github/rghosh1353/cancer_epifactors/blob/main/Neural_Networks_for_Cancer_Prediction.ipynb\" target=\"_parent\"><img src=\"https://colab.research.google.com/assets/colab-badge.svg\" alt=\"Open In Colab\"/></a>"
      ]
    },
    {
      "cell_type": "markdown",
      "id": "b05c990e",
      "metadata": {
        "id": "b05c990e"
      },
      "source": [
        "# Neural Network for Cancer Prediction\n",
        "The data used for this tutorial is an RNA-seq gene expression data for different cancer types. The rows represent cancer samples and the columns represent gene count values. The last column contains the cancer categories.\n",
        "\n",
        "The original data can found here: https://archive.ics.uci.edu/ml/datasets/gene+expression+cancer+RNA-Seq#"
      ]
    },
    {
      "cell_type": "markdown",
      "id": "5d7202fe",
      "metadata": {
        "id": "5d7202fe"
      },
      "source": [
        "## Required Libraries\n",
        " - numpy\n",
        " - matplotlib\n",
        " - pandas\n",
        " - tensorflow\n",
        " - keras\n",
        " - scikit-learn"
      ]
    },
    {
      "cell_type": "markdown",
      "id": "91f3dde3",
      "metadata": {
        "id": "91f3dde3"
      },
      "source": [
        "## Import Python libraries"
      ]
    },
    {
      "cell_type": "code",
      "execution_count": 1,
      "id": "a0515dec",
      "metadata": {
        "id": "a0515dec"
      },
      "outputs": [],
      "source": [
        "#data handling\n",
        "import pandas as pd\n",
        "import numpy as np\n",
        "import os\n",
        "\n",
        "#data visualization\n",
        "import matplotlib.pyplot as plt\n",
        "import seaborn as sns\n",
        "\n",
        "#preprocessing\n",
        "from sklearn.model_selection import train_test_split\n",
        "from sklearn.preprocessing import LabelEncoder\n",
        "from sklearn.preprocessing import MinMaxScaler\n",
        "\n",
        "#classification\n",
        "import tensorflow as tf\n",
        "from tensorflow import keras\n",
        "from keras.models import Sequential\n",
        "from keras.layers import Dense\n",
        "\n"
      ]
    },
    {
      "cell_type": "markdown",
      "id": "b45976a3",
      "metadata": {
        "id": "b45976a3"
      },
      "source": [
        "## Read data"
      ]
    },
    {
      "cell_type": "code",
      "source": [
        "# Import data from a CSV file with full path\n",
        "#data = pd.read_csv(r'C:\\Users\\Jane\\Cancer\\cancer_counts.csv')\n",
        "\n",
        "# Now you can work with your data\n",
        "#print(data.head())"
      ],
      "metadata": {
        "id": "q4qtKUbC9hMb"
      },
      "id": "q4qtKUbC9hMb",
      "execution_count": 2,
      "outputs": []
    },
    {
      "cell_type": "code",
      "source": [
        "from google.colab import drive\n",
        "drive.mount('/content/drive')"
      ],
      "metadata": {
        "colab": {
          "base_uri": "https://localhost:8080/"
        },
        "id": "QzZ8YuqoP7tl",
        "outputId": "36cd1436-952a-4d02-b948-b8cd47de6153"
      },
      "id": "QzZ8YuqoP7tl",
      "execution_count": 3,
      "outputs": [
        {
          "output_type": "stream",
          "name": "stdout",
          "text": [
            "Mounted at /content/drive\n"
          ]
        }
      ]
    },
    {
      "cell_type": "code",
      "execution_count": 19,
      "id": "25a5cb29",
      "metadata": {
        "id": "25a5cb29"
      },
      "outputs": [],
      "source": [
        "##\n",
        "#read data directly from a github repository\n",
        "\n",
        "\n",
        "#### Kajal's drive path #########\n",
        "#### WARNING ---- THIS SHOULD BE YOUR PATH TO FILE ON GOOGLE DRIVE ########\n",
        "file_url='drive/My Drive/cancer_counts.csv'\n",
        "\n",
        "dataframe=pd.read_csv(file_url)\n",
        "\n",
        "# remove first column (contained name/barcode of samples)\n",
        "dataframe = dataframe.iloc[:, 1:]\n",
        "\n",
        "##\n"
      ]
    },
    {
      "cell_type": "markdown",
      "id": "e214ad93",
      "metadata": {
        "id": "e214ad93"
      },
      "source": [
        "\n",
        "## Data Exploration & Cleaning\n",
        "\n",
        "\n"
      ]
    },
    {
      "cell_type": "code",
      "execution_count": 20,
      "id": "18e48d71",
      "metadata": {
        "scrolled": true,
        "id": "18e48d71",
        "colab": {
          "base_uri": "https://localhost:8080/"
        },
        "outputId": "e0daeb69-32ce-4252-e8b6-ce558d48439e"
      },
      "outputs": [
        {
          "output_type": "stream",
          "name": "stdout",
          "text": [
            "(986, 525)\n"
          ]
        }
      ],
      "source": [
        "#let's check the number of samples and features\n",
        "#note:the last column contain the labels. it is not considered as a feature\n",
        "\n",
        "print(dataframe.shape)"
      ]
    },
    {
      "cell_type": "code",
      "execution_count": 21,
      "id": "7e833043",
      "metadata": {
        "id": "7e833043",
        "colab": {
          "base_uri": "https://localhost:8080/"
        },
        "outputId": "d564a0d1-c314-4994-a08a-197a1f410636"
      },
      "outputs": [
        {
          "output_type": "stream",
          "name": "stdout",
          "text": [
            "Index(['LAS1L', 'KDM1A', 'MSL3'], dtype='object')\n"
          ]
        }
      ],
      "source": [
        "#let's check some of the columns (first, second and third columns)\n",
        "print(dataframe.columns[0:3])"
      ]
    },
    {
      "cell_type": "code",
      "execution_count": 22,
      "id": "2aee3bf1",
      "metadata": {
        "id": "2aee3bf1",
        "colab": {
          "base_uri": "https://localhost:8080/",
          "height": 35
        },
        "outputId": "7eea7361-0e17-48ab-d1eb-fbddee286e73"
      },
      "outputs": [
        {
          "output_type": "execute_result",
          "data": {
            "text/plain": [
              "'UHRF1'"
            ],
            "application/vnd.google.colaboratory.intrinsic+json": {
              "type": "string"
            }
          },
          "metadata": {},
          "execution_count": 22
        }
      ],
      "source": [
        "#lets check the name of the last column of this dataframe\n",
        "\n",
        "dataframe.columns[-1]"
      ]
    },
    {
      "cell_type": "code",
      "execution_count": 23,
      "id": "229679e0",
      "metadata": {
        "id": "229679e0",
        "colab": {
          "base_uri": "https://localhost:8080/"
        },
        "outputId": "ee82d1af-d40f-4a86-d3e9-559c3926ff98"
      },
      "outputs": [
        {
          "output_type": "stream",
          "name": "stdout",
          "text": [
            "columns with missing values:0\n"
          ]
        }
      ],
      "source": [
        "#check for missing values\n",
        "datanul=dataframe.isnull().sum()\n",
        "g=[i for i in datanul if i>0]\n",
        "\n",
        "print('columns with missing values:%d'%len(g))"
      ]
    },
    {
      "cell_type": "markdown",
      "id": "000af60f",
      "metadata": {
        "id": "000af60f"
      },
      "source": [
        "**GOOD JOB!!!!.**"
      ]
    },
    {
      "cell_type": "code",
      "execution_count": null,
      "id": "d0560c5a",
      "metadata": {
        "scrolled": true,
        "id": "d0560c5a"
      },
      "outputs": [],
      "source": [
        "#let's check how many different cancer types are there in the data\n",
        "#note: in this tutorial the cancer types will be referred to as classes or labels\n",
        "\n",
        "#print(dataframe['Cancer_Type'].value_counts())"
      ]
    },
    {
      "cell_type": "markdown",
      "id": "046d64c6",
      "metadata": {
        "id": "046d64c6"
      },
      "source": [
        "We can see that there are 5 classes/cancer types. And you can also see the number of samples diagnosed with a cancer type\n",
        "      "
      ]
    },
    {
      "cell_type": "markdown",
      "id": "7a0e165b",
      "metadata": {
        "id": "7a0e165b"
      },
      "source": [
        "\n",
        "## **Data preprocesing**\n",
        "This is done to put the data in an appropriate format before modelling\n"
      ]
    },
    {
      "cell_type": "code",
      "execution_count": 25,
      "id": "a13b9f51",
      "metadata": {
        "id": "a13b9f51"
      },
      "outputs": [],
      "source": [
        "#we will now seperate the feature values from the class. we do this because scikit-learn requires that features and class are separated before parsing them to the classifiers.\n",
        "X=dataframe.iloc[:,0:-1]\n",
        "y=dataframe.iloc[:,-1]"
      ]
    },
    {
      "cell_type": "markdown",
      "id": "264a01cb",
      "metadata": {
        "id": "264a01cb"
      },
      "source": [
        "\\\n",
        "**Encode labels**\n",
        "\n",
        "The labels for this data are categorical and we therefore have to convert them to numeric forms. This is referred to as encoding. Machine learning models usually require input data to be in numeric forms, hence we encoding the labels."
      ]
    },
    {
      "cell_type": "code",
      "execution_count": 26,
      "id": "b251f08b",
      "metadata": {
        "id": "b251f08b"
      },
      "outputs": [],
      "source": [
        "#let's encode target labels (y) with values between 0 and n_classes-1.\n",
        "#encoding will be done using the LabelEncoder\n",
        "#label_encoder=LabelEncoder()\n",
        "#label_encoder.fit(y)\n",
        "y#=label_encoder.transform(y)\n",
        "#labels=label_encoder.classes_\n",
        "#classes=np.unique(y)\n",
        "#nclasses=np.unique(y).shape[0]"
      ]
    },
    {
      "cell_type": "markdown",
      "id": "5f68c4f6",
      "metadata": {
        "id": "5f68c4f6"
      },
      "source": [
        "\\\n",
        "**Data Splitting**\\\n",
        "Data is split into three: training, validation and test sets\\\n",
        "-training set is used for training\\\n",
        "-validation set is used for evaluating the model during training.\\\n",
        "-test set is used to test the model after training and tuning has been completed."
      ]
    },
    {
      "cell_type": "code",
      "execution_count": 32,
      "id": "7bcc2bde",
      "metadata": {
        "id": "7bcc2bde"
      },
      "outputs": [],
      "source": [
        "#split data into training,validation and test sets\n",
        "\n",
        "#split the data into training and test sets\n",
        "X_train,X_test,y_train,y_test=train_test_split(X,y,test_size=0.2,random_state = 42)\n",
        "\n",
        "#split the training set into two (training and validation)\n",
        "X_train, X_val, y_train, y_val = train_test_split(X_train,y_train,test_size=0.2,random_state = 42)"
      ]
    },
    {
      "cell_type": "markdown",
      "id": "0d1c8d5e",
      "metadata": {
        "id": "0d1c8d5e"
      },
      "source": [
        "\\\n",
        "**Data Normalization**\\\n",
        "Data normalization is done so that the values are in the same range. This will improve model performance and avoid bias.\\\n",
        "Normalization is performed separately on each data set. This is done to prevent data leakage."
      ]
    },
    {
      "cell_type": "code",
      "execution_count": 29,
      "id": "b7fc9256",
      "metadata": {
        "id": "b7fc9256"
      },
      "outputs": [],
      "source": [
        "### scale the data between 0-1"
      ]
    },
    {
      "cell_type": "code",
      "execution_count": 29,
      "id": "4a06d2f6",
      "metadata": {
        "id": "4a06d2f6"
      },
      "outputs": [],
      "source": [
        "min_max_scaler=MinMaxScaler()\n",
        "X_train=min_max_scaler.fit_transform(X_train)\n",
        "X_val=min_max_scaler.fit_transform(X_val)\n",
        "X_test=min_max_scaler.fit_transform(X_test)"
      ]
    },
    {
      "cell_type": "markdown",
      "id": "7a1736a7",
      "metadata": {
        "id": "7a1736a7"
      },
      "source": [
        "  "
      ]
    },
    {
      "cell_type": "markdown",
      "id": "c0f0ba2c",
      "metadata": {
        "id": "c0f0ba2c"
      },
      "source": [
        "### Build the Neural Network Model"
      ]
    },
    {
      "cell_type": "code",
      "execution_count": 30,
      "id": "f0f5060f",
      "metadata": {
        "scrolled": false,
        "id": "f0f5060f"
      },
      "outputs": [],
      "source": [
        "#define model\n",
        "model = Sequential()\n",
        "\n",
        "#hidden layer 1\n",
        "model.add(Dense(40, input_dim=X_train.shape[1], activation='relu'))\n",
        "\n",
        "#hidden layer 2\n",
        "model.add(Dense(20, activation='relu'))\n",
        "\n",
        "#output layer\n",
        "model.add(Dense(nclasses, activation='softmax'))\n",
        "\n",
        "#define optimizer and learning rate. We will use Adam optimizer\n",
        "opt_adam = keras.optimizers.Adam(learning_rate=0.001)\n",
        "\n",
        "model.compile(loss=tf.keras.losses.SparseCategoricalCrossentropy(), optimizer=opt_adam, metrics=[keras.metrics.SparseCategoricalAccuracy()])\n"
      ]
    },
    {
      "cell_type": "code",
      "execution_count": 31,
      "id": "080eb398",
      "metadata": {
        "scrolled": true,
        "id": "080eb398",
        "colab": {
          "base_uri": "https://localhost:8080/"
        },
        "outputId": "b95c40b0-9740-442b-a183-6e9ac112afbd"
      },
      "outputs": [
        {
          "output_type": "stream",
          "name": "stdout",
          "text": [
            "Epoch 1/200\n",
            "20/20 [==============================] - 1s 14ms/step - loss: 6.8514 - sparse_categorical_accuracy: 0.0000e+00 - val_loss: 6.8619 - val_sparse_categorical_accuracy: 0.0063\n",
            "Epoch 2/200\n",
            "20/20 [==============================] - 0s 6ms/step - loss: 6.8165 - sparse_categorical_accuracy: 0.0032 - val_loss: 6.9617 - val_sparse_categorical_accuracy: 0.0063\n",
            "Epoch 3/200\n",
            "20/20 [==============================] - 0s 5ms/step - loss: 6.7334 - sparse_categorical_accuracy: 0.0032 - val_loss: 7.6052 - val_sparse_categorical_accuracy: 0.0000e+00\n",
            "Epoch 4/200\n",
            "20/20 [==============================] - 0s 5ms/step - loss: 6.6003 - sparse_categorical_accuracy: 0.0016 - val_loss: 8.6583 - val_sparse_categorical_accuracy: 0.0000e+00\n",
            "Epoch 5/200\n",
            "20/20 [==============================] - 0s 6ms/step - loss: 6.4745 - sparse_categorical_accuracy: 0.0032 - val_loss: 9.3998 - val_sparse_categorical_accuracy: 0.0000e+00\n",
            "Epoch 6/200\n",
            "20/20 [==============================] - 0s 6ms/step - loss: 6.3663 - sparse_categorical_accuracy: 0.0032 - val_loss: 10.1204 - val_sparse_categorical_accuracy: 0.0000e+00\n",
            "Epoch 7/200\n",
            "20/20 [==============================] - 0s 7ms/step - loss: 6.2347 - sparse_categorical_accuracy: 0.0048 - val_loss: 11.2522 - val_sparse_categorical_accuracy: 0.0000e+00\n",
            "Epoch 8/200\n",
            "20/20 [==============================] - 0s 6ms/step - loss: 6.0998 - sparse_categorical_accuracy: 0.0016 - val_loss: 12.2531 - val_sparse_categorical_accuracy: 0.0000e+00\n",
            "Epoch 9/200\n",
            "20/20 [==============================] - 0s 5ms/step - loss: 5.9779 - sparse_categorical_accuracy: 0.0032 - val_loss: 13.2756 - val_sparse_categorical_accuracy: 0.0000e+00\n",
            "Epoch 10/200\n",
            "20/20 [==============================] - 0s 5ms/step - loss: 5.8660 - sparse_categorical_accuracy: 0.0079 - val_loss: 14.4521 - val_sparse_categorical_accuracy: 0.0000e+00\n",
            "Epoch 11/200\n",
            "20/20 [==============================] - 0s 6ms/step - loss: 5.7548 - sparse_categorical_accuracy: 0.0048 - val_loss: 15.1620 - val_sparse_categorical_accuracy: 0.0000e+00\n",
            "Epoch 12/200\n",
            "20/20 [==============================] - 0s 5ms/step - loss: 5.6447 - sparse_categorical_accuracy: 0.0048 - val_loss: 16.4873 - val_sparse_categorical_accuracy: 0.0000e+00\n",
            "Epoch 13/200\n",
            "20/20 [==============================] - 0s 5ms/step - loss: 5.5199 - sparse_categorical_accuracy: 0.0063 - val_loss: 17.7037 - val_sparse_categorical_accuracy: 0.0000e+00\n",
            "Epoch 14/200\n",
            "20/20 [==============================] - 0s 6ms/step - loss: 5.3950 - sparse_categorical_accuracy: 0.0048 - val_loss: 19.0580 - val_sparse_categorical_accuracy: 0.0000e+00\n",
            "Epoch 15/200\n",
            "20/20 [==============================] - 0s 6ms/step - loss: 5.2656 - sparse_categorical_accuracy: 0.0127 - val_loss: 20.3320 - val_sparse_categorical_accuracy: 0.0000e+00\n",
            "Epoch 16/200\n",
            "20/20 [==============================] - 0s 6ms/step - loss: 5.1225 - sparse_categorical_accuracy: 0.0222 - val_loss: 22.0882 - val_sparse_categorical_accuracy: 0.0000e+00\n",
            "Epoch 17/200\n",
            "20/20 [==============================] - 0s 5ms/step - loss: 4.9812 - sparse_categorical_accuracy: 0.0270 - val_loss: 23.5378 - val_sparse_categorical_accuracy: 0.0000e+00\n",
            "Epoch 18/200\n",
            "20/20 [==============================] - 0s 5ms/step - loss: 4.8468 - sparse_categorical_accuracy: 0.0349 - val_loss: 24.8304 - val_sparse_categorical_accuracy: 0.0000e+00\n",
            "Epoch 19/200\n",
            "20/20 [==============================] - 0s 5ms/step - loss: 4.7014 - sparse_categorical_accuracy: 0.0444 - val_loss: 26.4907 - val_sparse_categorical_accuracy: 0.0000e+00\n",
            "Epoch 20/200\n",
            "20/20 [==============================] - 0s 5ms/step - loss: 4.5693 - sparse_categorical_accuracy: 0.0460 - val_loss: 27.7677 - val_sparse_categorical_accuracy: 0.0000e+00\n",
            "Epoch 21/200\n",
            "20/20 [==============================] - 0s 5ms/step - loss: 4.4248 - sparse_categorical_accuracy: 0.0540 - val_loss: 29.2120 - val_sparse_categorical_accuracy: 0.0000e+00\n",
            "Epoch 22/200\n",
            "20/20 [==============================] - 0s 6ms/step - loss: 4.2998 - sparse_categorical_accuracy: 0.0619 - val_loss: 30.9068 - val_sparse_categorical_accuracy: 0.0000e+00\n",
            "Epoch 23/200\n",
            "20/20 [==============================] - 0s 6ms/step - loss: 4.1755 - sparse_categorical_accuracy: 0.0825 - val_loss: 32.5496 - val_sparse_categorical_accuracy: 0.0000e+00\n",
            "Epoch 24/200\n",
            "20/20 [==============================] - 0s 5ms/step - loss: 4.0508 - sparse_categorical_accuracy: 0.0825 - val_loss: 33.8766 - val_sparse_categorical_accuracy: 0.0000e+00\n",
            "Epoch 25/200\n",
            "20/20 [==============================] - 0s 5ms/step - loss: 3.9335 - sparse_categorical_accuracy: 0.0984 - val_loss: 35.2080 - val_sparse_categorical_accuracy: 0.0000e+00\n",
            "Epoch 26/200\n",
            "20/20 [==============================] - 0s 5ms/step - loss: 3.8355 - sparse_categorical_accuracy: 0.1206 - val_loss: 36.5303 - val_sparse_categorical_accuracy: 0.0000e+00\n",
            "Epoch 27/200\n",
            "20/20 [==============================] - 0s 5ms/step - loss: 3.7329 - sparse_categorical_accuracy: 0.1397 - val_loss: 37.9718 - val_sparse_categorical_accuracy: 0.0000e+00\n",
            "Epoch 28/200\n",
            "20/20 [==============================] - 0s 5ms/step - loss: 3.6162 - sparse_categorical_accuracy: 0.1492 - val_loss: 39.1823 - val_sparse_categorical_accuracy: 0.0000e+00\n",
            "Epoch 29/200\n",
            "20/20 [==============================] - 0s 5ms/step - loss: 3.5460 - sparse_categorical_accuracy: 0.1571 - val_loss: 40.6902 - val_sparse_categorical_accuracy: 0.0000e+00\n",
            "Epoch 30/200\n",
            "20/20 [==============================] - 0s 5ms/step - loss: 3.4431 - sparse_categorical_accuracy: 0.1635 - val_loss: 42.0818 - val_sparse_categorical_accuracy: 0.0000e+00\n",
            "Epoch 31/200\n",
            "20/20 [==============================] - 0s 5ms/step - loss: 3.3579 - sparse_categorical_accuracy: 0.2032 - val_loss: 43.1430 - val_sparse_categorical_accuracy: 0.0000e+00\n",
            "Epoch 32/200\n",
            "20/20 [==============================] - 0s 10ms/step - loss: 3.2976 - sparse_categorical_accuracy: 0.1937 - val_loss: 44.6557 - val_sparse_categorical_accuracy: 0.0000e+00\n",
            "Epoch 33/200\n",
            "20/20 [==============================] - 0s 11ms/step - loss: 3.1998 - sparse_categorical_accuracy: 0.2143 - val_loss: 45.9077 - val_sparse_categorical_accuracy: 0.0000e+00\n",
            "Epoch 34/200\n",
            "20/20 [==============================] - 0s 19ms/step - loss: 3.1581 - sparse_categorical_accuracy: 0.2286 - val_loss: 46.7154 - val_sparse_categorical_accuracy: 0.0000e+00\n",
            "Epoch 35/200\n",
            "20/20 [==============================] - 0s 17ms/step - loss: 3.0479 - sparse_categorical_accuracy: 0.2460 - val_loss: 47.8939 - val_sparse_categorical_accuracy: 0.0000e+00\n",
            "Epoch 36/200\n",
            "20/20 [==============================] - 0s 15ms/step - loss: 2.9994 - sparse_categorical_accuracy: 0.2746 - val_loss: 49.2293 - val_sparse_categorical_accuracy: 0.0000e+00\n",
            "Epoch 37/200\n",
            "20/20 [==============================] - 1s 29ms/step - loss: 2.9255 - sparse_categorical_accuracy: 0.2873 - val_loss: 50.2621 - val_sparse_categorical_accuracy: 0.0000e+00\n",
            "Epoch 38/200\n",
            "20/20 [==============================] - 0s 23ms/step - loss: 2.8751 - sparse_categorical_accuracy: 0.2841 - val_loss: 51.4056 - val_sparse_categorical_accuracy: 0.0000e+00\n",
            "Epoch 39/200\n",
            "20/20 [==============================] - 0s 12ms/step - loss: 2.8155 - sparse_categorical_accuracy: 0.3063 - val_loss: 52.5042 - val_sparse_categorical_accuracy: 0.0000e+00\n",
            "Epoch 40/200\n",
            "20/20 [==============================] - 0s 16ms/step - loss: 2.7591 - sparse_categorical_accuracy: 0.3159 - val_loss: 53.3495 - val_sparse_categorical_accuracy: 0.0000e+00\n",
            "Epoch 41/200\n",
            "20/20 [==============================] - 0s 22ms/step - loss: 2.6806 - sparse_categorical_accuracy: 0.3397 - val_loss: 54.5283 - val_sparse_categorical_accuracy: 0.0000e+00\n",
            "Epoch 42/200\n",
            "20/20 [==============================] - 0s 17ms/step - loss: 2.6102 - sparse_categorical_accuracy: 0.3825 - val_loss: 55.2986 - val_sparse_categorical_accuracy: 0.0000e+00\n",
            "Epoch 43/200\n",
            "20/20 [==============================] - 0s 21ms/step - loss: 2.5602 - sparse_categorical_accuracy: 0.3667 - val_loss: 56.4119 - val_sparse_categorical_accuracy: 0.0000e+00\n",
            "Epoch 44/200\n",
            "20/20 [==============================] - 0s 15ms/step - loss: 2.5079 - sparse_categorical_accuracy: 0.3762 - val_loss: 57.6790 - val_sparse_categorical_accuracy: 0.0000e+00\n",
            "Epoch 45/200\n",
            "20/20 [==============================] - 0s 15ms/step - loss: 2.4598 - sparse_categorical_accuracy: 0.4032 - val_loss: 58.2560 - val_sparse_categorical_accuracy: 0.0000e+00\n",
            "Epoch 46/200\n",
            "20/20 [==============================] - 0s 13ms/step - loss: 2.4271 - sparse_categorical_accuracy: 0.4127 - val_loss: 59.1116 - val_sparse_categorical_accuracy: 0.0000e+00\n",
            "Epoch 47/200\n",
            "20/20 [==============================] - 0s 8ms/step - loss: 2.3693 - sparse_categorical_accuracy: 0.3984 - val_loss: 60.2024 - val_sparse_categorical_accuracy: 0.0000e+00\n",
            "Epoch 48/200\n",
            "20/20 [==============================] - 0s 16ms/step - loss: 2.2906 - sparse_categorical_accuracy: 0.4540 - val_loss: 61.4725 - val_sparse_categorical_accuracy: 0.0000e+00\n",
            "Epoch 49/200\n",
            "20/20 [==============================] - 0s 12ms/step - loss: 2.2830 - sparse_categorical_accuracy: 0.4571 - val_loss: 62.0879 - val_sparse_categorical_accuracy: 0.0000e+00\n",
            "Epoch 50/200\n",
            "20/20 [==============================] - 0s 13ms/step - loss: 2.2025 - sparse_categorical_accuracy: 0.4683 - val_loss: 62.9478 - val_sparse_categorical_accuracy: 0.0000e+00\n",
            "Epoch 51/200\n",
            "20/20 [==============================] - 0s 8ms/step - loss: 2.1964 - sparse_categorical_accuracy: 0.4540 - val_loss: 64.0745 - val_sparse_categorical_accuracy: 0.0000e+00\n",
            "Epoch 52/200\n",
            "20/20 [==============================] - 0s 10ms/step - loss: 2.1329 - sparse_categorical_accuracy: 0.5016 - val_loss: 64.9090 - val_sparse_categorical_accuracy: 0.0000e+00\n",
            "Epoch 53/200\n",
            "20/20 [==============================] - 0s 12ms/step - loss: 2.0861 - sparse_categorical_accuracy: 0.5206 - val_loss: 65.8452 - val_sparse_categorical_accuracy: 0.0000e+00\n",
            "Epoch 54/200\n",
            "20/20 [==============================] - 0s 17ms/step - loss: 2.0504 - sparse_categorical_accuracy: 0.5111 - val_loss: 66.2680 - val_sparse_categorical_accuracy: 0.0000e+00\n",
            "Epoch 55/200\n",
            "20/20 [==============================] - 0s 9ms/step - loss: 1.9995 - sparse_categorical_accuracy: 0.5127 - val_loss: 66.8007 - val_sparse_categorical_accuracy: 0.0000e+00\n",
            "Epoch 56/200\n",
            "20/20 [==============================] - 0s 10ms/step - loss: 1.9699 - sparse_categorical_accuracy: 0.5270 - val_loss: 68.3380 - val_sparse_categorical_accuracy: 0.0000e+00\n",
            "Epoch 57/200\n",
            "20/20 [==============================] - 0s 10ms/step - loss: 1.9243 - sparse_categorical_accuracy: 0.5444 - val_loss: 68.7425 - val_sparse_categorical_accuracy: 0.0000e+00\n",
            "Epoch 58/200\n",
            "20/20 [==============================] - 0s 11ms/step - loss: 1.8913 - sparse_categorical_accuracy: 0.5508 - val_loss: 69.8607 - val_sparse_categorical_accuracy: 0.0000e+00\n",
            "Epoch 59/200\n",
            "20/20 [==============================] - 0s 10ms/step - loss: 1.8358 - sparse_categorical_accuracy: 0.5746 - val_loss: 70.7174 - val_sparse_categorical_accuracy: 0.0000e+00\n",
            "Epoch 60/200\n",
            "20/20 [==============================] - 0s 11ms/step - loss: 1.8068 - sparse_categorical_accuracy: 0.5683 - val_loss: 71.4916 - val_sparse_categorical_accuracy: 0.0000e+00\n",
            "Epoch 61/200\n",
            "20/20 [==============================] - 0s 12ms/step - loss: 1.7875 - sparse_categorical_accuracy: 0.5794 - val_loss: 71.7596 - val_sparse_categorical_accuracy: 0.0000e+00\n",
            "Epoch 62/200\n",
            "20/20 [==============================] - 0s 17ms/step - loss: 1.7364 - sparse_categorical_accuracy: 0.5873 - val_loss: 72.8918 - val_sparse_categorical_accuracy: 0.0000e+00\n",
            "Epoch 63/200\n",
            "20/20 [==============================] - 0s 12ms/step - loss: 1.7169 - sparse_categorical_accuracy: 0.5873 - val_loss: 73.9610 - val_sparse_categorical_accuracy: 0.0000e+00\n",
            "Epoch 64/200\n",
            "20/20 [==============================] - 0s 10ms/step - loss: 1.6945 - sparse_categorical_accuracy: 0.5952 - val_loss: 74.4343 - val_sparse_categorical_accuracy: 0.0000e+00\n",
            "Epoch 65/200\n",
            "20/20 [==============================] - 0s 12ms/step - loss: 1.6535 - sparse_categorical_accuracy: 0.6270 - val_loss: 75.5936 - val_sparse_categorical_accuracy: 0.0000e+00\n",
            "Epoch 66/200\n",
            "20/20 [==============================] - 0s 13ms/step - loss: 1.6286 - sparse_categorical_accuracy: 0.6397 - val_loss: 76.1954 - val_sparse_categorical_accuracy: 0.0000e+00\n",
            "Epoch 67/200\n",
            "20/20 [==============================] - 0s 5ms/step - loss: 1.5961 - sparse_categorical_accuracy: 0.6206 - val_loss: 76.7385 - val_sparse_categorical_accuracy: 0.0000e+00\n",
            "Epoch 68/200\n",
            "20/20 [==============================] - 0s 5ms/step - loss: 1.5635 - sparse_categorical_accuracy: 0.6603 - val_loss: 77.6852 - val_sparse_categorical_accuracy: 0.0000e+00\n",
            "Epoch 69/200\n",
            "20/20 [==============================] - 0s 9ms/step - loss: 1.5331 - sparse_categorical_accuracy: 0.6603 - val_loss: 78.1851 - val_sparse_categorical_accuracy: 0.0000e+00\n",
            "Epoch 70/200\n",
            "20/20 [==============================] - 0s 8ms/step - loss: 1.4944 - sparse_categorical_accuracy: 0.6476 - val_loss: 78.9399 - val_sparse_categorical_accuracy: 0.0000e+00\n",
            "Epoch 71/200\n",
            "20/20 [==============================] - 0s 12ms/step - loss: 1.4663 - sparse_categorical_accuracy: 0.6571 - val_loss: 79.3757 - val_sparse_categorical_accuracy: 0.0000e+00\n",
            "Epoch 72/200\n",
            "20/20 [==============================] - 0s 13ms/step - loss: 1.4295 - sparse_categorical_accuracy: 0.6746 - val_loss: 80.2775 - val_sparse_categorical_accuracy: 0.0000e+00\n",
            "Epoch 73/200\n",
            "20/20 [==============================] - 0s 12ms/step - loss: 1.4121 - sparse_categorical_accuracy: 0.6921 - val_loss: 81.2755 - val_sparse_categorical_accuracy: 0.0000e+00\n",
            "Epoch 74/200\n",
            "20/20 [==============================] - 0s 13ms/step - loss: 1.3904 - sparse_categorical_accuracy: 0.6714 - val_loss: 82.2547 - val_sparse_categorical_accuracy: 0.0000e+00\n",
            "Epoch 75/200\n",
            "20/20 [==============================] - 0s 12ms/step - loss: 1.3702 - sparse_categorical_accuracy: 0.6778 - val_loss: 82.4881 - val_sparse_categorical_accuracy: 0.0000e+00\n",
            "Epoch 76/200\n",
            "20/20 [==============================] - 0s 17ms/step - loss: 1.3328 - sparse_categorical_accuracy: 0.7032 - val_loss: 83.0998 - val_sparse_categorical_accuracy: 0.0000e+00\n",
            "Epoch 77/200\n",
            "20/20 [==============================] - 0s 10ms/step - loss: 1.3323 - sparse_categorical_accuracy: 0.6937 - val_loss: 83.6536 - val_sparse_categorical_accuracy: 0.0000e+00\n",
            "Epoch 78/200\n",
            "20/20 [==============================] - 0s 10ms/step - loss: 1.3053 - sparse_categorical_accuracy: 0.7190 - val_loss: 84.2563 - val_sparse_categorical_accuracy: 0.0000e+00\n",
            "Epoch 79/200\n",
            "20/20 [==============================] - 0s 12ms/step - loss: 1.2790 - sparse_categorical_accuracy: 0.7079 - val_loss: 85.1487 - val_sparse_categorical_accuracy: 0.0000e+00\n",
            "Epoch 80/200\n",
            "20/20 [==============================] - 0s 10ms/step - loss: 1.2448 - sparse_categorical_accuracy: 0.7413 - val_loss: 85.5433 - val_sparse_categorical_accuracy: 0.0000e+00\n",
            "Epoch 81/200\n",
            "20/20 [==============================] - 0s 12ms/step - loss: 1.2462 - sparse_categorical_accuracy: 0.7095 - val_loss: 86.2708 - val_sparse_categorical_accuracy: 0.0000e+00\n",
            "Epoch 82/200\n",
            "20/20 [==============================] - 0s 15ms/step - loss: 1.2045 - sparse_categorical_accuracy: 0.7492 - val_loss: 86.6122 - val_sparse_categorical_accuracy: 0.0000e+00\n",
            "Epoch 83/200\n",
            "20/20 [==============================] - 0s 15ms/step - loss: 1.1785 - sparse_categorical_accuracy: 0.7460 - val_loss: 87.3380 - val_sparse_categorical_accuracy: 0.0000e+00\n",
            "Epoch 84/200\n",
            "20/20 [==============================] - 0s 10ms/step - loss: 1.1602 - sparse_categorical_accuracy: 0.7635 - val_loss: 88.1290 - val_sparse_categorical_accuracy: 0.0000e+00\n",
            "Epoch 85/200\n",
            "20/20 [==============================] - 0s 10ms/step - loss: 1.1482 - sparse_categorical_accuracy: 0.7190 - val_loss: 89.1491 - val_sparse_categorical_accuracy: 0.0000e+00\n",
            "Epoch 86/200\n",
            "20/20 [==============================] - 0s 10ms/step - loss: 1.1054 - sparse_categorical_accuracy: 0.7698 - val_loss: 89.1765 - val_sparse_categorical_accuracy: 0.0000e+00\n",
            "Epoch 87/200\n",
            "20/20 [==============================] - 0s 8ms/step - loss: 1.0852 - sparse_categorical_accuracy: 0.7587 - val_loss: 90.2258 - val_sparse_categorical_accuracy: 0.0000e+00\n",
            "Epoch 88/200\n",
            "20/20 [==============================] - 0s 7ms/step - loss: 1.0879 - sparse_categorical_accuracy: 0.7714 - val_loss: 91.0391 - val_sparse_categorical_accuracy: 0.0000e+00\n",
            "Epoch 89/200\n",
            "20/20 [==============================] - 0s 5ms/step - loss: 1.0713 - sparse_categorical_accuracy: 0.7714 - val_loss: 91.3617 - val_sparse_categorical_accuracy: 0.0000e+00\n",
            "Epoch 90/200\n",
            "20/20 [==============================] - 0s 8ms/step - loss: 1.0436 - sparse_categorical_accuracy: 0.7905 - val_loss: 91.6724 - val_sparse_categorical_accuracy: 0.0000e+00\n",
            "Epoch 91/200\n",
            "20/20 [==============================] - 0s 11ms/step - loss: 1.0408 - sparse_categorical_accuracy: 0.7825 - val_loss: 92.1943 - val_sparse_categorical_accuracy: 0.0000e+00\n",
            "Epoch 92/200\n",
            "20/20 [==============================] - 0s 8ms/step - loss: 1.0119 - sparse_categorical_accuracy: 0.7889 - val_loss: 92.7573 - val_sparse_categorical_accuracy: 0.0000e+00\n",
            "Epoch 93/200\n",
            "20/20 [==============================] - 0s 7ms/step - loss: 0.9867 - sparse_categorical_accuracy: 0.7778 - val_loss: 93.6978 - val_sparse_categorical_accuracy: 0.0000e+00\n",
            "Epoch 94/200\n",
            "20/20 [==============================] - 0s 8ms/step - loss: 0.9412 - sparse_categorical_accuracy: 0.7937 - val_loss: 94.2000 - val_sparse_categorical_accuracy: 0.0000e+00\n",
            "Epoch 95/200\n",
            "20/20 [==============================] - 0s 8ms/step - loss: 0.9411 - sparse_categorical_accuracy: 0.8079 - val_loss: 94.7677 - val_sparse_categorical_accuracy: 0.0000e+00\n",
            "Epoch 96/200\n",
            "20/20 [==============================] - 0s 8ms/step - loss: 0.9249 - sparse_categorical_accuracy: 0.8048 - val_loss: 95.5781 - val_sparse_categorical_accuracy: 0.0000e+00\n",
            "Epoch 97/200\n",
            "20/20 [==============================] - 0s 9ms/step - loss: 0.9225 - sparse_categorical_accuracy: 0.8048 - val_loss: 96.0497 - val_sparse_categorical_accuracy: 0.0000e+00\n",
            "Epoch 98/200\n",
            "20/20 [==============================] - 0s 7ms/step - loss: 0.9010 - sparse_categorical_accuracy: 0.8238 - val_loss: 96.3458 - val_sparse_categorical_accuracy: 0.0000e+00\n",
            "Epoch 99/200\n",
            "20/20 [==============================] - 0s 8ms/step - loss: 0.8822 - sparse_categorical_accuracy: 0.8111 - val_loss: 96.9940 - val_sparse_categorical_accuracy: 0.0000e+00\n",
            "Epoch 100/200\n",
            "20/20 [==============================] - 0s 9ms/step - loss: 0.8771 - sparse_categorical_accuracy: 0.8190 - val_loss: 97.5513 - val_sparse_categorical_accuracy: 0.0000e+00\n",
            "Epoch 101/200\n",
            "20/20 [==============================] - 0s 8ms/step - loss: 0.8536 - sparse_categorical_accuracy: 0.8365 - val_loss: 98.1366 - val_sparse_categorical_accuracy: 0.0000e+00\n",
            "Epoch 102/200\n",
            "20/20 [==============================] - 0s 9ms/step - loss: 0.8589 - sparse_categorical_accuracy: 0.8222 - val_loss: 98.3611 - val_sparse_categorical_accuracy: 0.0000e+00\n",
            "Epoch 103/200\n",
            "20/20 [==============================] - 0s 7ms/step - loss: 0.8017 - sparse_categorical_accuracy: 0.8397 - val_loss: 99.0605 - val_sparse_categorical_accuracy: 0.0000e+00\n",
            "Epoch 104/200\n",
            "20/20 [==============================] - 0s 8ms/step - loss: 0.8092 - sparse_categorical_accuracy: 0.8413 - val_loss: 99.7680 - val_sparse_categorical_accuracy: 0.0000e+00\n",
            "Epoch 105/200\n",
            "20/20 [==============================] - 0s 8ms/step - loss: 0.7656 - sparse_categorical_accuracy: 0.8603 - val_loss: 100.1853 - val_sparse_categorical_accuracy: 0.0000e+00\n",
            "Epoch 106/200\n",
            "20/20 [==============================] - 0s 8ms/step - loss: 0.7680 - sparse_categorical_accuracy: 0.8429 - val_loss: 100.7737 - val_sparse_categorical_accuracy: 0.0000e+00\n",
            "Epoch 107/200\n",
            "20/20 [==============================] - 0s 8ms/step - loss: 0.7375 - sparse_categorical_accuracy: 0.8651 - val_loss: 101.6163 - val_sparse_categorical_accuracy: 0.0000e+00\n",
            "Epoch 108/200\n",
            "20/20 [==============================] - 0s 8ms/step - loss: 0.7381 - sparse_categorical_accuracy: 0.8635 - val_loss: 102.1607 - val_sparse_categorical_accuracy: 0.0000e+00\n",
            "Epoch 109/200\n",
            "20/20 [==============================] - 0s 8ms/step - loss: 0.7214 - sparse_categorical_accuracy: 0.8746 - val_loss: 102.4682 - val_sparse_categorical_accuracy: 0.0000e+00\n",
            "Epoch 110/200\n",
            "20/20 [==============================] - 0s 8ms/step - loss: 0.7337 - sparse_categorical_accuracy: 0.8571 - val_loss: 103.3215 - val_sparse_categorical_accuracy: 0.0000e+00\n",
            "Epoch 111/200\n",
            "20/20 [==============================] - 0s 8ms/step - loss: 0.7075 - sparse_categorical_accuracy: 0.8556 - val_loss: 103.7245 - val_sparse_categorical_accuracy: 0.0000e+00\n",
            "Epoch 112/200\n",
            "20/20 [==============================] - 0s 6ms/step - loss: 0.7166 - sparse_categorical_accuracy: 0.8635 - val_loss: 103.7227 - val_sparse_categorical_accuracy: 0.0000e+00\n",
            "Epoch 113/200\n",
            "20/20 [==============================] - 0s 8ms/step - loss: 0.6824 - sparse_categorical_accuracy: 0.8667 - val_loss: 104.8662 - val_sparse_categorical_accuracy: 0.0000e+00\n",
            "Epoch 114/200\n",
            "20/20 [==============================] - 0s 5ms/step - loss: 0.6592 - sparse_categorical_accuracy: 0.8762 - val_loss: 105.0750 - val_sparse_categorical_accuracy: 0.0000e+00\n",
            "Epoch 115/200\n",
            "20/20 [==============================] - 0s 6ms/step - loss: 0.6754 - sparse_categorical_accuracy: 0.8587 - val_loss: 105.7221 - val_sparse_categorical_accuracy: 0.0000e+00\n",
            "Epoch 116/200\n",
            "20/20 [==============================] - 0s 5ms/step - loss: 0.6603 - sparse_categorical_accuracy: 0.8778 - val_loss: 105.9525 - val_sparse_categorical_accuracy: 0.0000e+00\n",
            "Epoch 117/200\n",
            "20/20 [==============================] - 0s 6ms/step - loss: 0.6599 - sparse_categorical_accuracy: 0.8778 - val_loss: 106.2044 - val_sparse_categorical_accuracy: 0.0000e+00\n",
            "Epoch 118/200\n",
            "20/20 [==============================] - 0s 5ms/step - loss: 0.6408 - sparse_categorical_accuracy: 0.8825 - val_loss: 107.3769 - val_sparse_categorical_accuracy: 0.0000e+00\n",
            "Epoch 119/200\n",
            "20/20 [==============================] - 0s 5ms/step - loss: 0.6252 - sparse_categorical_accuracy: 0.8873 - val_loss: 107.4629 - val_sparse_categorical_accuracy: 0.0000e+00\n",
            "Epoch 120/200\n",
            "20/20 [==============================] - 0s 6ms/step - loss: 0.6057 - sparse_categorical_accuracy: 0.8905 - val_loss: 107.4860 - val_sparse_categorical_accuracy: 0.0000e+00\n",
            "Epoch 121/200\n",
            "20/20 [==============================] - 0s 6ms/step - loss: 0.5919 - sparse_categorical_accuracy: 0.9063 - val_loss: 108.2682 - val_sparse_categorical_accuracy: 0.0000e+00\n",
            "Epoch 122/200\n",
            "20/20 [==============================] - 0s 6ms/step - loss: 0.5885 - sparse_categorical_accuracy: 0.9000 - val_loss: 108.8182 - val_sparse_categorical_accuracy: 0.0000e+00\n",
            "Epoch 123/200\n",
            "20/20 [==============================] - 0s 5ms/step - loss: 0.5867 - sparse_categorical_accuracy: 0.8937 - val_loss: 109.3421 - val_sparse_categorical_accuracy: 0.0000e+00\n",
            "Epoch 124/200\n",
            "20/20 [==============================] - 0s 5ms/step - loss: 0.5828 - sparse_categorical_accuracy: 0.9095 - val_loss: 109.7029 - val_sparse_categorical_accuracy: 0.0000e+00\n",
            "Epoch 125/200\n",
            "20/20 [==============================] - 0s 6ms/step - loss: 0.5622 - sparse_categorical_accuracy: 0.9000 - val_loss: 110.1497 - val_sparse_categorical_accuracy: 0.0000e+00\n",
            "Epoch 126/200\n",
            "20/20 [==============================] - 0s 6ms/step - loss: 0.5777 - sparse_categorical_accuracy: 0.8921 - val_loss: 110.4267 - val_sparse_categorical_accuracy: 0.0000e+00\n",
            "Epoch 127/200\n",
            "20/20 [==============================] - 0s 5ms/step - loss: 0.5626 - sparse_categorical_accuracy: 0.9048 - val_loss: 110.6819 - val_sparse_categorical_accuracy: 0.0000e+00\n",
            "Epoch 128/200\n",
            "20/20 [==============================] - 0s 5ms/step - loss: 0.5417 - sparse_categorical_accuracy: 0.9048 - val_loss: 111.5243 - val_sparse_categorical_accuracy: 0.0000e+00\n",
            "Epoch 129/200\n",
            "20/20 [==============================] - 0s 6ms/step - loss: 0.5192 - sparse_categorical_accuracy: 0.9079 - val_loss: 112.1569 - val_sparse_categorical_accuracy: 0.0000e+00\n",
            "Epoch 130/200\n",
            "20/20 [==============================] - 0s 6ms/step - loss: 0.5389 - sparse_categorical_accuracy: 0.8921 - val_loss: 111.8523 - val_sparse_categorical_accuracy: 0.0000e+00\n",
            "Epoch 131/200\n",
            "20/20 [==============================] - 0s 5ms/step - loss: 0.5238 - sparse_categorical_accuracy: 0.9111 - val_loss: 113.0278 - val_sparse_categorical_accuracy: 0.0000e+00\n",
            "Epoch 132/200\n",
            "20/20 [==============================] - 0s 5ms/step - loss: 0.4940 - sparse_categorical_accuracy: 0.9127 - val_loss: 112.5410 - val_sparse_categorical_accuracy: 0.0000e+00\n",
            "Epoch 133/200\n",
            "20/20 [==============================] - 0s 5ms/step - loss: 0.4751 - sparse_categorical_accuracy: 0.9175 - val_loss: 113.2928 - val_sparse_categorical_accuracy: 0.0000e+00\n",
            "Epoch 134/200\n",
            "20/20 [==============================] - 0s 6ms/step - loss: 0.4896 - sparse_categorical_accuracy: 0.9175 - val_loss: 113.7636 - val_sparse_categorical_accuracy: 0.0000e+00\n",
            "Epoch 135/200\n",
            "20/20 [==============================] - 0s 6ms/step - loss: 0.4736 - sparse_categorical_accuracy: 0.9175 - val_loss: 114.2931 - val_sparse_categorical_accuracy: 0.0000e+00\n",
            "Epoch 136/200\n",
            "20/20 [==============================] - 0s 5ms/step - loss: 0.4586 - sparse_categorical_accuracy: 0.9238 - val_loss: 114.7786 - val_sparse_categorical_accuracy: 0.0000e+00\n",
            "Epoch 137/200\n",
            "20/20 [==============================] - 0s 6ms/step - loss: 0.4597 - sparse_categorical_accuracy: 0.9175 - val_loss: 114.4510 - val_sparse_categorical_accuracy: 0.0000e+00\n",
            "Epoch 138/200\n",
            "20/20 [==============================] - 0s 6ms/step - loss: 0.4537 - sparse_categorical_accuracy: 0.9317 - val_loss: 115.6770 - val_sparse_categorical_accuracy: 0.0000e+00\n",
            "Epoch 139/200\n",
            "20/20 [==============================] - 0s 6ms/step - loss: 0.4388 - sparse_categorical_accuracy: 0.9238 - val_loss: 116.0001 - val_sparse_categorical_accuracy: 0.0000e+00\n",
            "Epoch 140/200\n",
            "20/20 [==============================] - 0s 5ms/step - loss: 0.4382 - sparse_categorical_accuracy: 0.9222 - val_loss: 115.9943 - val_sparse_categorical_accuracy: 0.0000e+00\n",
            "Epoch 141/200\n",
            "20/20 [==============================] - 0s 6ms/step - loss: 0.4199 - sparse_categorical_accuracy: 0.9333 - val_loss: 116.9964 - val_sparse_categorical_accuracy: 0.0000e+00\n",
            "Epoch 142/200\n",
            "20/20 [==============================] - 0s 5ms/step - loss: 0.4162 - sparse_categorical_accuracy: 0.9333 - val_loss: 117.1628 - val_sparse_categorical_accuracy: 0.0000e+00\n",
            "Epoch 143/200\n",
            "20/20 [==============================] - 0s 6ms/step - loss: 0.4007 - sparse_categorical_accuracy: 0.9349 - val_loss: 117.1403 - val_sparse_categorical_accuracy: 0.0000e+00\n",
            "Epoch 144/200\n",
            "20/20 [==============================] - 0s 6ms/step - loss: 0.3884 - sparse_categorical_accuracy: 0.9365 - val_loss: 117.7869 - val_sparse_categorical_accuracy: 0.0000e+00\n",
            "Epoch 145/200\n",
            "20/20 [==============================] - 0s 6ms/step - loss: 0.3736 - sparse_categorical_accuracy: 0.9444 - val_loss: 118.5304 - val_sparse_categorical_accuracy: 0.0000e+00\n",
            "Epoch 146/200\n",
            "20/20 [==============================] - 0s 6ms/step - loss: 0.3915 - sparse_categorical_accuracy: 0.9476 - val_loss: 119.0781 - val_sparse_categorical_accuracy: 0.0000e+00\n",
            "Epoch 147/200\n",
            "20/20 [==============================] - 0s 6ms/step - loss: 0.3947 - sparse_categorical_accuracy: 0.9381 - val_loss: 119.2636 - val_sparse_categorical_accuracy: 0.0000e+00\n",
            "Epoch 148/200\n",
            "20/20 [==============================] - 0s 6ms/step - loss: 0.3861 - sparse_categorical_accuracy: 0.9397 - val_loss: 119.6226 - val_sparse_categorical_accuracy: 0.0000e+00\n",
            "Epoch 149/200\n",
            "20/20 [==============================] - 0s 5ms/step - loss: 0.3935 - sparse_categorical_accuracy: 0.9381 - val_loss: 120.2843 - val_sparse_categorical_accuracy: 0.0000e+00\n",
            "Epoch 150/200\n",
            "20/20 [==============================] - 0s 6ms/step - loss: 0.4073 - sparse_categorical_accuracy: 0.9381 - val_loss: 119.9674 - val_sparse_categorical_accuracy: 0.0000e+00\n",
            "Epoch 151/200\n",
            "20/20 [==============================] - 0s 6ms/step - loss: 0.3618 - sparse_categorical_accuracy: 0.9429 - val_loss: 120.7157 - val_sparse_categorical_accuracy: 0.0000e+00\n",
            "Epoch 152/200\n",
            "20/20 [==============================] - 0s 5ms/step - loss: 0.3452 - sparse_categorical_accuracy: 0.9476 - val_loss: 121.1947 - val_sparse_categorical_accuracy: 0.0000e+00\n",
            "Epoch 153/200\n",
            "20/20 [==============================] - 0s 5ms/step - loss: 0.3494 - sparse_categorical_accuracy: 0.9444 - val_loss: 121.3855 - val_sparse_categorical_accuracy: 0.0000e+00\n",
            "Epoch 154/200\n",
            "20/20 [==============================] - 0s 6ms/step - loss: 0.3580 - sparse_categorical_accuracy: 0.9413 - val_loss: 121.4608 - val_sparse_categorical_accuracy: 0.0000e+00\n",
            "Epoch 155/200\n",
            "20/20 [==============================] - 0s 5ms/step - loss: 0.3376 - sparse_categorical_accuracy: 0.9476 - val_loss: 122.1345 - val_sparse_categorical_accuracy: 0.0000e+00\n",
            "Epoch 156/200\n",
            "20/20 [==============================] - 0s 6ms/step - loss: 0.3536 - sparse_categorical_accuracy: 0.9444 - val_loss: 122.6099 - val_sparse_categorical_accuracy: 0.0000e+00\n",
            "Epoch 157/200\n",
            "20/20 [==============================] - 0s 6ms/step - loss: 0.3545 - sparse_categorical_accuracy: 0.9413 - val_loss: 123.1136 - val_sparse_categorical_accuracy: 0.0000e+00\n",
            "Epoch 158/200\n",
            "20/20 [==============================] - 0s 6ms/step - loss: 0.3258 - sparse_categorical_accuracy: 0.9524 - val_loss: 122.4561 - val_sparse_categorical_accuracy: 0.0000e+00\n",
            "Epoch 159/200\n",
            "20/20 [==============================] - 0s 6ms/step - loss: 0.3374 - sparse_categorical_accuracy: 0.9508 - val_loss: 123.4331 - val_sparse_categorical_accuracy: 0.0000e+00\n",
            "Epoch 160/200\n",
            "20/20 [==============================] - 0s 5ms/step - loss: 0.3217 - sparse_categorical_accuracy: 0.9651 - val_loss: 123.6756 - val_sparse_categorical_accuracy: 0.0000e+00\n",
            "Epoch 161/200\n",
            "20/20 [==============================] - 0s 6ms/step - loss: 0.3090 - sparse_categorical_accuracy: 0.9603 - val_loss: 124.3054 - val_sparse_categorical_accuracy: 0.0000e+00\n",
            "Epoch 162/200\n",
            "20/20 [==============================] - 0s 6ms/step - loss: 0.2972 - sparse_categorical_accuracy: 0.9524 - val_loss: 124.0827 - val_sparse_categorical_accuracy: 0.0000e+00\n",
            "Epoch 163/200\n",
            "20/20 [==============================] - 0s 6ms/step - loss: 0.2940 - sparse_categorical_accuracy: 0.9587 - val_loss: 124.7722 - val_sparse_categorical_accuracy: 0.0000e+00\n",
            "Epoch 164/200\n",
            "20/20 [==============================] - 0s 5ms/step - loss: 0.2870 - sparse_categorical_accuracy: 0.9619 - val_loss: 125.1856 - val_sparse_categorical_accuracy: 0.0000e+00\n",
            "Epoch 165/200\n",
            "20/20 [==============================] - 0s 6ms/step - loss: 0.2896 - sparse_categorical_accuracy: 0.9603 - val_loss: 125.0646 - val_sparse_categorical_accuracy: 0.0000e+00\n",
            "Epoch 166/200\n",
            "20/20 [==============================] - 0s 6ms/step - loss: 0.2962 - sparse_categorical_accuracy: 0.9508 - val_loss: 125.9060 - val_sparse_categorical_accuracy: 0.0000e+00\n",
            "Epoch 167/200\n",
            "20/20 [==============================] - 0s 6ms/step - loss: 0.2881 - sparse_categorical_accuracy: 0.9635 - val_loss: 126.1334 - val_sparse_categorical_accuracy: 0.0000e+00\n",
            "Epoch 168/200\n",
            "20/20 [==============================] - 0s 6ms/step - loss: 0.2734 - sparse_categorical_accuracy: 0.9651 - val_loss: 126.5897 - val_sparse_categorical_accuracy: 0.0000e+00\n",
            "Epoch 169/200\n",
            "20/20 [==============================] - 0s 6ms/step - loss: 0.2612 - sparse_categorical_accuracy: 0.9651 - val_loss: 126.8802 - val_sparse_categorical_accuracy: 0.0000e+00\n",
            "Epoch 170/200\n",
            "20/20 [==============================] - 0s 6ms/step - loss: 0.2585 - sparse_categorical_accuracy: 0.9587 - val_loss: 127.0740 - val_sparse_categorical_accuracy: 0.0000e+00\n",
            "Epoch 171/200\n",
            "20/20 [==============================] - 0s 6ms/step - loss: 0.2720 - sparse_categorical_accuracy: 0.9492 - val_loss: 127.0750 - val_sparse_categorical_accuracy: 0.0000e+00\n",
            "Epoch 172/200\n",
            "20/20 [==============================] - 0s 5ms/step - loss: 0.2824 - sparse_categorical_accuracy: 0.9587 - val_loss: 128.0936 - val_sparse_categorical_accuracy: 0.0000e+00\n",
            "Epoch 173/200\n",
            "20/20 [==============================] - 0s 7ms/step - loss: 0.2673 - sparse_categorical_accuracy: 0.9571 - val_loss: 127.6964 - val_sparse_categorical_accuracy: 0.0000e+00\n",
            "Epoch 174/200\n",
            "20/20 [==============================] - 0s 5ms/step - loss: 0.2531 - sparse_categorical_accuracy: 0.9619 - val_loss: 128.3376 - val_sparse_categorical_accuracy: 0.0000e+00\n",
            "Epoch 175/200\n",
            "20/20 [==============================] - 0s 6ms/step - loss: 0.2417 - sparse_categorical_accuracy: 0.9619 - val_loss: 128.7326 - val_sparse_categorical_accuracy: 0.0000e+00\n",
            "Epoch 176/200\n",
            "20/20 [==============================] - 0s 5ms/step - loss: 0.2397 - sparse_categorical_accuracy: 0.9667 - val_loss: 129.1283 - val_sparse_categorical_accuracy: 0.0000e+00\n",
            "Epoch 177/200\n",
            "20/20 [==============================] - 0s 6ms/step - loss: 0.2414 - sparse_categorical_accuracy: 0.9667 - val_loss: 129.4086 - val_sparse_categorical_accuracy: 0.0000e+00\n",
            "Epoch 178/200\n",
            "20/20 [==============================] - 0s 5ms/step - loss: 0.2108 - sparse_categorical_accuracy: 0.9683 - val_loss: 129.5227 - val_sparse_categorical_accuracy: 0.0000e+00\n",
            "Epoch 179/200\n",
            "20/20 [==============================] - 0s 6ms/step - loss: 0.2105 - sparse_categorical_accuracy: 0.9730 - val_loss: 130.0630 - val_sparse_categorical_accuracy: 0.0000e+00\n",
            "Epoch 180/200\n",
            "20/20 [==============================] - 0s 6ms/step - loss: 0.2106 - sparse_categorical_accuracy: 0.9698 - val_loss: 130.3581 - val_sparse_categorical_accuracy: 0.0000e+00\n",
            "Epoch 181/200\n",
            "20/20 [==============================] - 0s 5ms/step - loss: 0.2041 - sparse_categorical_accuracy: 0.9730 - val_loss: 130.7548 - val_sparse_categorical_accuracy: 0.0000e+00\n",
            "Epoch 182/200\n",
            "20/20 [==============================] - 0s 6ms/step - loss: 0.2033 - sparse_categorical_accuracy: 0.9746 - val_loss: 131.0266 - val_sparse_categorical_accuracy: 0.0000e+00\n",
            "Epoch 183/200\n",
            "20/20 [==============================] - 0s 6ms/step - loss: 0.2061 - sparse_categorical_accuracy: 0.9730 - val_loss: 131.5675 - val_sparse_categorical_accuracy: 0.0000e+00\n",
            "Epoch 184/200\n",
            "20/20 [==============================] - 0s 6ms/step - loss: 0.2331 - sparse_categorical_accuracy: 0.9714 - val_loss: 131.6004 - val_sparse_categorical_accuracy: 0.0000e+00\n",
            "Epoch 185/200\n",
            "20/20 [==============================] - 0s 5ms/step - loss: 0.2290 - sparse_categorical_accuracy: 0.9714 - val_loss: 131.9693 - val_sparse_categorical_accuracy: 0.0000e+00\n",
            "Epoch 186/200\n",
            "20/20 [==============================] - 0s 5ms/step - loss: 0.2326 - sparse_categorical_accuracy: 0.9651 - val_loss: 131.6124 - val_sparse_categorical_accuracy: 0.0000e+00\n",
            "Epoch 187/200\n",
            "20/20 [==============================] - 0s 6ms/step - loss: 0.2066 - sparse_categorical_accuracy: 0.9667 - val_loss: 132.0832 - val_sparse_categorical_accuracy: 0.0000e+00\n",
            "Epoch 188/200\n",
            "20/20 [==============================] - 0s 6ms/step - loss: 0.1877 - sparse_categorical_accuracy: 0.9778 - val_loss: 132.4590 - val_sparse_categorical_accuracy: 0.0000e+00\n",
            "Epoch 189/200\n",
            "20/20 [==============================] - 0s 5ms/step - loss: 0.1841 - sparse_categorical_accuracy: 0.9746 - val_loss: 132.7905 - val_sparse_categorical_accuracy: 0.0000e+00\n",
            "Epoch 190/200\n",
            "20/20 [==============================] - 0s 6ms/step - loss: 0.1936 - sparse_categorical_accuracy: 0.9730 - val_loss: 133.2360 - val_sparse_categorical_accuracy: 0.0000e+00\n",
            "Epoch 191/200\n",
            "20/20 [==============================] - 0s 5ms/step - loss: 0.1792 - sparse_categorical_accuracy: 0.9810 - val_loss: 133.1067 - val_sparse_categorical_accuracy: 0.0000e+00\n",
            "Epoch 192/200\n",
            "20/20 [==============================] - 0s 5ms/step - loss: 0.1790 - sparse_categorical_accuracy: 0.9810 - val_loss: 134.0257 - val_sparse_categorical_accuracy: 0.0000e+00\n",
            "Epoch 193/200\n",
            "20/20 [==============================] - 0s 6ms/step - loss: 0.1778 - sparse_categorical_accuracy: 0.9730 - val_loss: 134.3625 - val_sparse_categorical_accuracy: 0.0000e+00\n",
            "Epoch 194/200\n",
            "20/20 [==============================] - 0s 10ms/step - loss: 0.1817 - sparse_categorical_accuracy: 0.9794 - val_loss: 134.4166 - val_sparse_categorical_accuracy: 0.0000e+00\n",
            "Epoch 195/200\n",
            "20/20 [==============================] - 0s 8ms/step - loss: 0.1702 - sparse_categorical_accuracy: 0.9778 - val_loss: 135.0517 - val_sparse_categorical_accuracy: 0.0000e+00\n",
            "Epoch 196/200\n",
            "20/20 [==============================] - 0s 8ms/step - loss: 0.1863 - sparse_categorical_accuracy: 0.9730 - val_loss: 134.9883 - val_sparse_categorical_accuracy: 0.0000e+00\n",
            "Epoch 197/200\n",
            "20/20 [==============================] - 0s 11ms/step - loss: 0.1752 - sparse_categorical_accuracy: 0.9778 - val_loss: 135.2710 - val_sparse_categorical_accuracy: 0.0000e+00\n",
            "Epoch 198/200\n",
            "20/20 [==============================] - 0s 9ms/step - loss: 0.1516 - sparse_categorical_accuracy: 0.9825 - val_loss: 135.7628 - val_sparse_categorical_accuracy: 0.0000e+00\n",
            "Epoch 199/200\n",
            "20/20 [==============================] - 0s 7ms/step - loss: 0.1543 - sparse_categorical_accuracy: 0.9857 - val_loss: 136.1510 - val_sparse_categorical_accuracy: 0.0000e+00\n",
            "Epoch 200/200\n",
            "20/20 [==============================] - 0s 8ms/step - loss: 0.1606 - sparse_categorical_accuracy: 0.9825 - val_loss: 136.2405 - val_sparse_categorical_accuracy: 0.0000e+00\n"
          ]
        }
      ],
      "source": [
        "#fit the model to the training data\n",
        "#history = model.fit(X_train, y_train, validation_data=(X_val, y_val), batch_size=32,epochs=200, verbose=1)\n"
      ]
    },
    {
      "cell_type": "code",
      "execution_count": 15,
      "id": "f5a5b8bc",
      "metadata": {
        "scrolled": false,
        "id": "f5a5b8bc",
        "colab": {
          "base_uri": "https://localhost:8080/"
        },
        "outputId": "a6d83fb4-5c6a-43d7-99c3-c5ff9e434381"
      },
      "outputs": [
        {
          "output_type": "stream",
          "name": "stdout",
          "text": [
            "7/7 [==============================] - 0s 2ms/step\n"
          ]
        }
      ],
      "source": [
        "predictions = model.predict(X_test)\n",
        "_, accuracy = model.evaluate(X_test, y_test, verbose=0)"
      ]
    },
    {
      "cell_type": "code",
      "execution_count": 16,
      "id": "e35f6f4a",
      "metadata": {
        "scrolled": true,
        "id": "e35f6f4a",
        "colab": {
          "base_uri": "https://localhost:8080/"
        },
        "outputId": "cb30da4f-321d-4754-e604-18175e572755"
      },
      "outputs": [
        {
          "output_type": "stream",
          "name": "stdout",
          "text": [
            "predicted:729 ,actual:645\n",
            "predicted:562 ,actual:702\n",
            "predicted:885 ,actual:900\n",
            "predicted:65 ,actual:37\n",
            "predicted:813 ,actual:630\n",
            "predicted:285 ,actual:658\n",
            "predicted:805 ,actual:824\n",
            "predicted:696 ,actual:369\n",
            "predicted:863 ,actual:773\n",
            "predicted:729 ,actual:638\n",
            "predicted:104 ,actual:4\n",
            "predicted:579 ,actual:801\n",
            "predicted:445 ,actual:230\n",
            "predicted:435 ,actual:399\n",
            "predicted:631 ,actual:449\n",
            "predicted:287 ,actual:240\n",
            "predicted:16 ,actual:28\n",
            "predicted:800 ,actual:407\n",
            "predicted:589 ,actual:418\n",
            "predicted:650 ,actual:377\n"
          ]
        }
      ],
      "source": [
        "#get the predictions for the first 20 samples in the test set\n",
        "for index,entry in enumerate(predictions[0:20,:]):\n",
        "    print('predicted:%d ,actual:%d'%(np.argmax(entry),y_test[index]))"
      ]
    },
    {
      "cell_type": "code",
      "execution_count": 17,
      "id": "b3ed706e",
      "metadata": {
        "id": "b3ed706e",
        "colab": {
          "base_uri": "https://localhost:8080/",
          "height": 472
        },
        "outputId": "d83ccba2-5c51-46b1-ba64-b6d11cc57a97"
      },
      "outputs": [
        {
          "output_type": "display_data",
          "data": {
            "text/plain": [
              "<Figure size 640x480 with 1 Axes>"
            ],
            "image/png": "[encoded data removed]"
          },
          "metadata": {}
        }
      ],
      "source": [
        "# summarize history for accuracy\n",
        "plt.plot(history.history['sparse_categorical_accuracy'])\n",
        "plt.plot(history.history['val_sparse_categorical_accuracy'])\n",
        "plt.title('model performance')\n",
        "plt.ylabel('accuracy')\n",
        "plt.xlabel('epoch')\n",
        "plt.legend(['train', 'val'], loc='lower right')\n",
        "plt.show()\n"
      ]
    },
    {
      "cell_type": "code",
      "execution_count": 18,
      "id": "e0ddadca",
      "metadata": {
        "id": "e0ddadca",
        "colab": {
          "base_uri": "https://localhost:8080/",
          "height": 472
        },
        "outputId": "7fda902f-0f06-453f-c6b3-65d6eaa6b6dc"
      },
      "outputs": [
        {
          "output_type": "display_data",
          "data": {
            "text/plain": [
              "<Figure size 640x480 with 1 Axes>"
            ],
            "image/png": "[encoded data removed]"
          },
          "metadata": {}
        }
      ],
      "source": [
        "# summarize history for loss\n",
        "plt.plot(history.history['loss'])\n",
        "plt.plot(history.history['val_loss'])\n",
        "plt.title('model loss')\n",
        "plt.ylabel('loss')\n",
        "plt.xlabel('epoch')\n",
        "plt.legend(['train', 'val'], loc='lower right')\n",
        "plt.show()"
      ]
    }
  ],
  "metadata": {
    "kernelspec": {
      "display_name": "Python 3 (ipykernel)",
      "language": "python",
      "name": "python3"
    },
    "language_info": {
      "codemirror_mode": {
        "name": "ipython",
        "version": 3
      },
      "file_extension": ".py",
      "mimetype": "text/x-python",
      "name": "python",
      "nbconvert_exporter": "python",
      "pygments_lexer": "ipython3",
      "version": "3.8.10"
    },
    "colab": {
      "provenance": [],
      "include_colab_link": true
    }
  },
  "nbformat": 4,
  "nbformat_minor": 5
}
